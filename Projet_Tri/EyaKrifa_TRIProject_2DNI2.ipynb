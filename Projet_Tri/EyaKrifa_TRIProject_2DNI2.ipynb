{
 "cells": [
  {
   "cell_type": "markdown",
   "metadata": {},
   "source": [
    "<img src=\"image/entete.png\" /> "
   ]
  },
  {
   "cell_type": "markdown",
   "metadata": {},
   "source": [
    "<h1 style=\"color: #B40431;\" > <center> Thème : Analyse & Complexité des Algorithmes </center></h1>\n"
   ]
  },
  {
   "cell_type": "code",
   "execution_count": 1,
   "metadata": {},
   "outputs": [],
   "source": [
    "from datetime import *\n",
    "import matplotlib.pyplot as plt\n",
    "import time\n",
    "from random import randint\n",
    "import matplotlib.pyplot as plt\n",
    "import sys\n",
    "sys.setrecursionlimit(10005)\n",
    "\n"
   ]
  },
  {
   "cell_type": "markdown",
   "metadata": {},
   "source": [
    "# <span style=\"color:#1E7C50\">Tri par selection</span>"
   ]
  },
  {
   "cell_type": "code",
   "execution_count": 2,
   "metadata": {},
   "outputs": [],
   "source": [
    "def tri_selection(t, n):\n",
    "\n",
    "    if n < 2:\n",
    "        # Moins de 2 éléments : pas besoin de trier\n",
    "        return t\n",
    "    for i in range(n-1):\n",
    "        # On suppose que le min est en premier\n",
    "        min = t[i]\n",
    "        imin = i\n",
    "        for j in range(i+1, n):\n",
    "            if t[j] < min:\n",
    "                # On met à jour le min\n",
    "                min = t[j]\n",
    "                imin = j\n",
    "        if imin != i:\n",
    "            # On pertmute pour mettre le min en premier\n",
    "            t[imin] = t[i]\n",
    "            t[i] = min\n",
    "    return t"
   ]
  },
  {
   "cell_type": "markdown",
   "metadata": {},
   "source": [
    "# <span style=\"color:#1E7C50\">Tri à bulle:</span>"
   ]
  },
  {
   "cell_type": "code",
   "execution_count": 3,
   "metadata": {},
   "outputs": [],
   "source": [
    "def tri_bulle(t, n):\n",
    "\n",
    "    if n < 2:\n",
    "        # Moins de 2 éléments : pas besoin de trier\n",
    "        return t\n",
    "    for i in range(n-1):\n",
    "        for j in range(n-1-i):\n",
    "            if t[j] > t[j+1]:\n",
    "                # On permute\n",
    "                temp = t[j]\n",
    "                t[j] = t[j+1]\n",
    "                t[j+1] = temp\n",
    "    return t"
   ]
  },
  {
   "cell_type": "markdown",
   "metadata": {},
   "source": [
    "# <span style=\"color:#1E7C50\">Tri par Insertion</span>"
   ]
  },
  {
   "cell_type": "code",
   "execution_count": 4,
   "metadata": {},
   "outputs": [],
   "source": [
    "def tri_insertion(t, n):\n",
    "\n",
    "    if n < 2:\n",
    "        # Moins de 2 éléments : pas besoin de trier\n",
    "        return t\n",
    "    for i in range(2, n):\n",
    "        temp = t[i]\n",
    "        j = i - 1\n",
    "        while t[j] > t[i] and j >= 0:\n",
    "            t[j+1] = t[j]\n",
    "            j -= 1\n",
    "        t[j] = temp\n",
    "    return t\n"
   ]
  },
  {
   "cell_type": "markdown",
   "metadata": {},
   "source": [
    "# <span style=\"color:#1E7C50\">Tri par fusion</span>"
   ]
  },
  {
   "cell_type": "code",
   "execution_count": 5,
   "metadata": {},
   "outputs": [],
   "source": [
    "def tri_fusion(t, n):\n",
    "\n",
    "    def vidage(ta, pa, na, t, p):\n",
    "  \n",
    "        for i in range(pa, na):\n",
    "            t[p] = ta[i]\n",
    "            p += 1\n",
    "        return t\n",
    "\n",
    "    if n < 2:\n",
    "        # Moins de 2 éléments : pas besoin de trier\n",
    "        return t\n",
    "\n",
    "    # Cas général : on découpe le tableau en 2 partie que l'on trie\n",
    "    p = n // 2\n",
    "    t1 = t[:p]\n",
    "    n1 = len(t1)\n",
    "    t1 = tri_fusion(t1, n1)\n",
    "    t2 = t[p:]\n",
    "    n2 = len(t2)\n",
    "    t2 = tri_fusion(t2, n2)\n",
    "    # Fusion des deux parties\n",
    "    p1, p2, p = 0, 0, 0 # position dans t1, t2 et t\n",
    "    while p1 < n1 and p2 < n2:\n",
    "        if t1[p1] < t2[p2]:\n",
    "            # On met t1[p1] dans t\n",
    "            t[p] = t1[p1]\n",
    "            p1 += 1\n",
    "        else:\n",
    "            # On met t2[p2] dans t\n",
    "            t[p] = t2[p2]\n",
    "            p2 += 1\n",
    "        p += 1\n",
    "    if p1 == len(t1):\n",
    "        vidage(t2, p2, len(t2), t, p)\n",
    "    else:\n",
    "        vidage(t1, p1, len(t1), t, p)\n",
    "    return t"
   ]
  },
  {
   "cell_type": "markdown",
   "metadata": {},
   "source": [
    "# <span style=\"color:#1E7C50\"> Tri rapide:</span>"
   ]
  },
  {
   "cell_type": "code",
   "execution_count": 6,
   "metadata": {},
   "outputs": [],
   "source": [
    "def tri_rapide(t, n):\n",
    "\n",
    "    def tri_rapide(t, i, j):\n",
    "        if i >= j:\n",
    "            # Pas besoin de trier\n",
    "            return t\n",
    "        p = i\n",
    "        # On place les éléments plus petits que le pivot (t[j-1]) au début\n",
    "        for k in range(i, j-1):\n",
    "            if t[k] <= t[j-1]:\n",
    "                t[k], t[p] = t[p], t[k]\n",
    "                p += 1\n",
    "        # On remet le pivot après les éléments plus petits\n",
    "        t[j-1], t[p] = t[p], t[j-1]\n",
    "        # On trie les deux parties\n",
    "        tri_rapide(t, i, p-1)\n",
    "        tri_rapide(t, p+1, j-1)\n",
    "        return t\n",
    "\n",
    "    if n < 2:\n",
    "        # Moins de 2 éléments : pas besoin de trier\n",
    "        return t\n",
    "\n",
    "    t = tri_rapide(t, 0, n)\n",
    "    return t"
   ]
  },
  {
   "cell_type": "markdown",
   "metadata": {},
   "source": [
    "### <span style=\"color:#E6951A\">Classe pour mesurer le temps d’exécution d’un algorithme</span>\n"
   ]
  },
  {
   "cell_type": "code",
   "execution_count": 5,
   "metadata": {},
   "outputs": [],
   "source": [
    "class Compteur(object):\n",
    "    def __init__(self, nom):\n",
    "        self.nom = nom\n",
    "\n",
    "    def __enter__(self):\n",
    "        self.t_debut = time.time()\n",
    "\n",
    "    def __exit__(self, exc_ty, exc_val, exc_tb):\n",
    "        t_fin = time.time()\n",
    "        print('{}: {}'.format(self.nom, t_fin - self.t_debut))"
   ]
  },
  {
   "cell_type": "markdown",
   "metadata": {},
   "source": [
    "### <span style=\"color:#E6951A\">Générer aléatoirement un tableau de n entiers( on varie n de 10 000 à 90 000)</span>"
   ]
  },
  {
   "cell_type": "code",
   "execution_count": 76,
   "metadata": {},
   "outputs": [],
   "source": [
    "t = [randint(0, 1000) for i in range(90000)]\n"
   ]
  },
  {
   "cell_type": "markdown",
   "metadata": {},
   "source": [
    "### <span style=\"color:#E6951A\"> Mesurer le temps d'éxécution de chaque </span>\n"
   ]
  },
  {
   "cell_type": "code",
   "execution_count": 9,
   "metadata": {},
   "outputs": [
    {
     "name": "stdout",
     "output_type": "stream",
     "text": [
      "Tri par sélection: 470.33608531951904\n"
     ]
    }
   ],
   "source": [
    "with Compteur(\"Tri par sélection\"):\n",
    "    t2 = tri_selection(t, len(t))"
   ]
  },
  {
   "cell_type": "code",
   "execution_count": 60,
   "metadata": {},
   "outputs": [
    {
     "name": "stdout",
     "output_type": "stream",
     "text": [
      "Tri par insertion: 0.17420697212219238\n"
     ]
    }
   ],
   "source": [
    " with Compteur(\"Tri par insertion\"):\n",
    "        t4 = tri_insertion(t, len(t))"
   ]
  },
  {
   "cell_type": "code",
   "execution_count": 68,
   "metadata": {},
   "outputs": [
    {
     "name": "stdout",
     "output_type": "stream",
     "text": [
      "Tri fusion: 0.8837273120880127\n"
     ]
    }
   ],
   "source": [
    "with Compteur(\"Tri fusion\"):\n",
    "        t5 = tri_fusion(t, len(t))\n",
    "\n"
   ]
  },
  {
   "cell_type": "code",
   "execution_count": 73,
   "metadata": {},
   "outputs": [
    {
     "name": "stdout",
     "output_type": "stream",
     "text": [
      "Tri bulle: 1163.5523557662964\n"
     ]
    }
   ],
   "source": [
    "with Compteur(\"Tri bulle\"):\n",
    "        t6 = tri_bulle(t, len(t))\n"
   ]
  },
  {
   "cell_type": "code",
   "execution_count": 77,
   "metadata": {},
   "outputs": [
    {
     "name": "stdout",
     "output_type": "stream",
     "text": [
      "Tri rapide: 1.4317567348480225\n"
     ]
    }
   ],
   "source": [
    "with Compteur(\"Tri rapide\"):\n",
    "        t7 = tri_rapide(t, len(t))"
   ]
  },
  {
   "cell_type": "markdown",
   "metadata": {},
   "source": [
    "# <span style=\"color:#1E7C50\"> Tri par sélection</span>"
   ]
  },
  {
   "cell_type": "markdown",
   "metadata": {},
   "source": [
    "## 1. Le tableau des mesures du temps "
   ]
  },
  {
   "cell_type": "markdown",
   "metadata": {},
   "source": [
    "valeur de N    |                  Temps d’exécution \n",
    ":----- | :----: \n",
    "10000   |  5.608956813812256 \n",
    "15000  |  12.324905157089233 \n",
    "20000   |  22.52531599998474\n",
    "25000  |  33.44592022895813 \n",
    "30000|49.218151330947876 \n",
    "35000|66.714914560318\n",
    "40000|85.84835028648376\n",
    "45000|101.28695344924927\n",
    "50000| 138.81094121932983\n",
    "55000|179.0379340648651\n",
    "60000|212.405686378479\n",
    "65000|239.06380200386047\n",
    "70000|318.6122717857361 \n",
    "75000| 317.1682815551758\n",
    "80000|362.1530089378357 \n",
    "85000|425.29745626449585\n",
    "90000|470.33608531951904 "
   ]
  },
  {
   "cell_type": "markdown",
   "metadata": {},
   "source": [
    "## 2. Affichage de la courbe : Tri par sélection "
   ]
  },
  {
   "cell_type": "code",
   "execution_count": 10,
   "metadata": {
    "scrolled": true
   },
   "outputs": [
    {
     "data": {
      "image/png": "[encoded data removed]",
      "text/plain": [
       "<Figure size 432x288 with 1 Axes>"
      ]
     },
     "metadata": {
      "needs_background": "light"
     },
     "output_type": "display_data"
    }
   ],
   "source": [
    "import numpy as np\n",
    "import matplotlib.pyplot as plt\n",
    "x = np.array([10000, 15000, 20000, 25000, 30000, 35000,40000,45000,50000,55000,60000,65000,70000,75000,80000,85000,90000])\n",
    "y = np.array([5.608956813812256 , 12.324905157089233, 22.52531599998474, 33.44592022895813, 49.218151330947876, 66.714914560318, 85.84835028648376, 101.28695344924927, 138.81094121932983, 179.0379340648651, 212.405686378479, 239.06380200386047, 318.6122717857361, 317.1682815551758, 362.1530089378357, 425.29745626449585, 470.33608531951904])\n",
    "plt.plot(x, y)\n",
    "plt.title(\"Tri par sélection\")\n",
    "plt.show() \n",
    "\n",
    "\n"
   ]
  },
  {
   "cell_type": "markdown",
   "metadata": {},
   "source": [
    "# <span style=\"color:#1E7C50\">Tri par Insertion :\n"
   ]
  },
  {
   "cell_type": "markdown",
   "metadata": {},
   "source": [
    "## 1. Le tableau des mesures du temps "
   ]
  },
  {
   "cell_type": "markdown",
   "metadata": {},
   "source": [
    "valeur de N    |                  Temps d’exécution \n",
    ":----- | :----: \n",
    "10000   |  0.0049953460693359375 \n",
    "15000  |  0.006994724273681641 \n",
    "20000   |  0.005997896194458008\n",
    "25000  |  0.0354609489440918 \n",
    "30000|0.02977275848388672 \n",
    "35000|0.03397679328918457\n",
    "40000|0.0582273006439209\n",
    "45000|0.05321478843688965\n",
    "50000| 0.06235647201538086\n",
    "55000|0.08147287368774414\n",
    "60000|0.1072843074798584\n",
    "65000|0.12798452377319336\n",
    "70000|0.13283586502075195\n",
    "75000| 0.1320507526397705\n",
    "80000|0.15703058242797852 \n",
    "85000|0.18067049980163574\n",
    "90000|0.17420697212219238 "
   ]
  },
  {
   "cell_type": "markdown",
   "metadata": {},
   "source": [
    "## 2. Affichage de la courbe : Tri par insertion "
   ]
  },
  {
   "cell_type": "code",
   "execution_count": 62,
   "metadata": {},
   "outputs": [
    {
     "data": {
      "image/png": "[encoded data removed]",
      "text/plain": [
       "<Figure size 432x288 with 1 Axes>"
      ]
     },
     "metadata": {
      "needs_background": "light"
     },
     "output_type": "display_data"
    }
   ],
   "source": [
    "x = np.array([10000, 15000, 20000, 25000, 30000, 35000,40000,45000,50000,55000,60000,65000,70000,75000,80000,85000,90000])\n",
    "y = np.array([0.0049953460693359375 , 0.006994724273681641, 0.005997896194458008, 0.0354609489440918, 0.02977275848388672, 0.03397679328918457, 0.0582273006439209, 0.05321478843688965, 0.06235647201538086, 0.08147287368774414, 0.1072843074798584, 0.12798452377319336, 0.13283586502075195, 0.1320507526397705, 0.15703058242797852, 0.18067049980163574, 0.17420697212219238])\n",
    "plt.plot(x, y)\n",
    "plt.title(\"Tri par Insertion \")\n",
    "plt.show() \n"
   ]
  },
  {
   "cell_type": "markdown",
   "metadata": {},
   "source": [
    "# <span style=\"color:#1E7C50\"> Tri Fusion:\n"
   ]
  },
  {
   "cell_type": "markdown",
   "metadata": {},
   "source": [
    "## 1. Le tableau des mesures du temps "
   ]
  },
  {
   "cell_type": "markdown",
   "metadata": {},
   "source": [
    "valeur de N    |                  Temps d’exécution \n",
    ":----- | :----: \n",
    "10000   |  0.08995223045349121 \n",
    "15000  |  0.12596869468688965 \n",
    "20000   |  0.15892958641052246\n",
    "25000  |  0.19191527366638184 \n",
    "30000|0.2214069366455078 \n",
    "35000|0.3048238754272461\n",
    "40000|0.2968440055847168\n",
    "45000|0.37105560302734375\n",
    "50000| 0.0.41276121139526367\n",
    "55000|0.4217808246612549\n",
    "60000|0.4874844551086426\n",
    "65000|0.5229408740997314\n",
    "70000|0.5734314918518066\n",
    "75000| 0.7041032314300537\n",
    "80000|0.7629947662353516 \n",
    "85000|0.7753057479858398\n",
    "90000|0.8837273120880127 "
   ]
  },
  {
   "cell_type": "markdown",
   "metadata": {},
   "source": [
    "## 2. Affichage de la courbe : Tri Fusion "
   ]
  },
  {
   "cell_type": "code",
   "execution_count": 69,
   "metadata": {},
   "outputs": [
    {
     "data": {
      "image/png": "[encoded data removed]",
      "text/plain": [
       "<Figure size 432x288 with 1 Axes>"
      ]
     },
     "metadata": {
      "needs_background": "light"
     },
     "output_type": "display_data"
    }
   ],
   "source": [
    "x = np.array([10000, 15000, 20000, 25000, 30000, 35000,40000,45000,50000,55000,60000,65000,70000,75000,80000,85000,90000])\n",
    "y = np.array([0.08995223045349121 , 0.12596869468688965, 0.15892958641052246, 0.19191527366638184, 0.2214069366455078, 0.3048238754272461, 0.2968440055847168, 0.37105560302734375, 0.41276121139526367, 0.4217808246612549, 0.4874844551086426, 0.5229408740997314, 0.5734314918518066, 0.7041032314300537, 0.7629947662353516, 0.7753057479858398, 0.8837273120880127])\n",
    "plt.plot(x, y)\n",
    "plt.title(\"Tri Fusion \")\n",
    "plt.show() \n"
   ]
  },
  {
   "cell_type": "markdown",
   "metadata": {},
   "source": [
    "#  <span style=\"color:#1E7C50\">Tri à bulle:\n"
   ]
  },
  {
   "cell_type": "markdown",
   "metadata": {},
   "source": [
    "## 1. Le tableau des mesures du temps "
   ]
  },
  {
   "cell_type": "markdown",
   "metadata": {},
   "source": [
    "valeur de N    |                  Temps d’exécution \n",
    ":----- | :----: \n",
    "10000   |  8.550340175628662 \n",
    "15000  |  21.685203313827515 \n",
    "20000   |  38.34774112701416\n",
    "25000  |  108.61269068717957 \n",
    "30000|150.45601415634155\n",
    "35000|212.35982656478882\n",
    "40000|306.4874858856201\n",
    "45000|406.2893877029419\n",
    "50000|445.39484214782715\n",
    "55000|550.3253104686737\n",
    "60000|665.628853559494\n",
    "65000|775.2833921909332\n",
    "70000|1037.1711893081665\n",
    "75000|1186.4637506008148\n",
    "80000|1163.5523557662964 \n",
    "85000|1392.697470664978\n",
    "90000|1513.4455780982971 "
   ]
  },
  {
   "cell_type": "markdown",
   "metadata": {},
   "source": [
    "## 2. Affichage de la courbe : Tri à bulle "
   ]
  },
  {
   "cell_type": "code",
   "execution_count": 75,
   "metadata": {},
   "outputs": [
    {
     "data": {
      "image/png": "[encoded data removed]",
      "text/plain": [
       "<Figure size 432x288 with 1 Axes>"
      ]
     },
     "metadata": {
      "needs_background": "light"
     },
     "output_type": "display_data"
    }
   ],
   "source": [
    "x = np.array([10000, 15000, 20000, 25000, 30000, 35000,40000,45000,50000,55000,60000,65000,70000,75000,80000,85000,90000])\n",
    "y = np.array([8.550340175628662 , 21.685203313827515, 38.34774112701416, 108.61269068717957, 150.45601415634155, 212.35982656478882, 306.4874858856201, 406.2893877029419, 445.39484214782715, 550.3253104686737, 665.628853559494, 775.2833921909332, 1037.1711893081665, 1186.4637506008148, 1163.5523557662964, 1392.697470664978, 1513.4455780982971])\n",
    "plt.plot(x, y)\n",
    "plt.title(\"Tri à bulle \")\n",
    "plt.show() \n"
   ]
  },
  {
   "cell_type": "markdown",
   "metadata": {},
   "source": [
    "# <span style=\"color:#1E7C50\"> Tri Rapide:\n"
   ]
  },
  {
   "cell_type": "markdown",
   "metadata": {},
   "source": [
    "## 1. Le tableau des mesures du temps \n"
   ]
  },
  {
   "cell_type": "markdown",
   "metadata": {},
   "source": [
    "valeur de N    |                  Temps d’exécution \n",
    ":----- | :----: \n",
    "10000   |  0.09094834327697754 \n",
    "15000  |  0.1210331916809082 \n",
    "20000   |  0.16990041732788086\n",
    "25000  |  0.19688630104064941 \n",
    "30000|0.2691078186035156\n",
    "35000|0.34182095527648926\n",
    "40000|0.36630868911743164\n",
    "45000|0.49873876571655273\n",
    "50000|0.6466302871704102\n",
    "55000|0.6410684585571289\n",
    "60000|0.7780411243438721\n",
    "65000|0.7849571704864502\n",
    "70000|0.9704675674438477\n",
    "75000|1.0136353969573975\n",
    "80000|1.2577598094940186 \n",
    "85000|1.4245219230651855\n",
    "90000|1.4317567348480225"
   ]
  },
  {
   "cell_type": "markdown",
   "metadata": {},
   "source": [
    "## 2. Affichage de la courbe : Tri rapide\n"
   ]
  },
  {
   "cell_type": "code",
   "execution_count": 78,
   "metadata": {},
   "outputs": [
    {
     "data": {
      "image/png": "[encoded data removed]",
      "text/plain": [
       "<Figure size 432x288 with 1 Axes>"
      ]
     },
     "metadata": {
      "needs_background": "light"
     },
     "output_type": "display_data"
    }
   ],
   "source": [
    "x = np.array([10000, 15000, 20000, 25000, 30000, 35000,40000,45000,50000,55000,60000,65000,70000,75000,80000,85000,90000])\n",
    "y = np.array([0.09094834327697754 , 0.1210331916809082, 0.16990041732788086, 0.19688630104064941, 0.2691078186035156, 0.34182095527648926, 0.36630868911743164, 0.49873876571655273, 0.6466302871704102, 0.6410684585571289, 0.7780411243438721, 0.7849571704864502, 0.9704675674438477, 1.0136353969573975, 1.2577598094940186, 1.4245219230651855, 1.4317567348480225])\n",
    "plt.plot(x, y)\n",
    "plt.title(\"Tri Rapide \")\n",
    "plt.show() \n"
   ]
  },
  {
   "cell_type": "code",
   "execution_count": null,
   "metadata": {},
   "outputs": [],
   "source": []
  }
 ],
 "metadata": {
  "kernelspec": {
   "display_name": "Python 3",
   "language": "python",
   "name": "python3"
  },
  "language_info": {
   "codemirror_mode": {
    "name": "ipython",
    "version": 3
   },
   "file_extension": ".py",
   "mimetype": "text/x-python",
   "name": "python",
   "nbconvert_exporter": "python",
   "pygments_lexer": "ipython3",
   "version": "3.8.3"
  }
 },
 "nbformat": 4,
 "nbformat_minor": 4
}
