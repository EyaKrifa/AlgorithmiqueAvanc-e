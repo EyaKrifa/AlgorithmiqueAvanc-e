{
 "cells": [
  {
   "cell_type": "markdown",
   "metadata": {},
   "source": [
    "# Problème de N_Reines :"
   ]
  },
  {
   "cell_type": "code",
   "execution_count": 6,
   "metadata": {},
   "outputs": [
    {
     "name": "stdout",
     "output_type": "stream",
     "text": [
      ". Q . . \n",
      ". . . Q \n",
      "Q . . . \n",
      ". . Q . \n",
      "\n",
      "\n",
      ". . Q . \n",
      "Q . . . \n",
      ". . . Q \n",
      ". Q . . \n",
      "\n",
      "\n",
      "Found 2 solutions.\n"
     ]
    }
   ],
   "source": [
    "class N_Reines:\n",
    "    def __init__(self, size):\n",
    "        self.size = size\n",
    "        self.solutions = 0\n",
    "        self.solve()\n",
    "    def solve(self):\n",
    "        positions = [-1] * self.size\n",
    "        self.PutQueen(positions, 0)\n",
    "        print(\"Found\", self.solutions, \"solutions.\")\n",
    "    def PutQueen(self, positions, target_row): \n",
    "        if target_row == self.size:\n",
    "            self.display(positions)\n",
    "            self.solutions += 1\n",
    "        else:\n",
    "            for column in range(self.size):\n",
    "                if self.checkPlace(positions, target_row, column):\n",
    "                    positions[target_row] = column\n",
    "                    self.PutQueen(positions, target_row + 1)\n",
    "    def checkPlace(self, positions, ocuppied_rows, column):\n",
    "        for i in range(ocuppied_rows):\n",
    "            if positions[i] == column or positions[i] - i == column - ocuppied_rows or positions[i] + i == column + ocuppied_rows:\n",
    "                return False\n",
    "        return True    \n",
    "    def display(self,positions):\n",
    "        for row in range(self.size):\n",
    "            for column in range(self.size):\n",
    "                if positions[row] == column:\n",
    "                    print('Q', end=' ')\n",
    "                else:\n",
    "                    print('.', end=' ')\n",
    "            print()\n",
    "        print(\"\\n\")\n",
    "def main():\n",
    "    N_Reines(4)\n",
    "if __name__ == \"__main__\":\n",
    "    main()"
   ]
  },
  {
   "cell_type": "code",
   "execution_count": null,
   "metadata": {},
   "outputs": [],
   "source": []
  }
 ],
 "metadata": {
  "kernelspec": {
   "display_name": "Python 3",
   "language": "python",
   "name": "python3"
  },
  "language_info": {
   "codemirror_mode": {
    "name": "ipython",
    "version": 3
   },
   "file_extension": ".py",
   "mimetype": "text/x-python",
   "name": "python",
   "nbconvert_exporter": "python",
   "pygments_lexer": "ipython3",
   "version": "3.8.3"
  }
 },
 "nbformat": 4,
 "nbformat_minor": 4
}
